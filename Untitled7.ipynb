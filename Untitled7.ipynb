{
  "nbformat": 4,
  "nbformat_minor": 0,
  "metadata": {
    "colab": {
      "provenance": [],
      "authorship_tag": "ABX9TyP2KhnvGK7VAOChVazMXHOW",
      "include_colab_link": true
    },
    "kernelspec": {
      "name": "python3",
      "display_name": "Python 3"
    },
    "language_info": {
      "name": "python"
    }
  },
  "cells": [
    {
      "cell_type": "markdown",
      "metadata": {
        "id": "view-in-github",
        "colab_type": "text"
      },
      "source": [
        "<a href=\"https://colab.research.google.com/github/SriVarshan733/examor/blob/main/Untitled7.ipynb\" target=\"_parent\"><img src=\"https://colab.research.google.com/assets/colab-badge.svg\" alt=\"Open In Colab\"/></a>"
      ]
    },
    {
      "cell_type": "code",
      "execution_count": 1,
      "metadata": {
        "id": "Wj-ZubrsTno1",
        "colab": {
          "base_uri": "https://localhost:8080/"
        },
        "outputId": "e53a0ae5-c14e-4423-bb8d-0b4a502c2f53"
      },
      "outputs": [
        {
          "output_type": "stream",
          "name": "stdout",
          "text": [
            "testing connection\n"
          ]
        }
      ],
      "source": [
        "print(\"testing connection\")"
      ]
    },
    {
      "cell_type": "code",
      "source": [
        "print(\"checking after connection\")"
      ],
      "metadata": {
        "colab": {
          "base_uri": "https://localhost:8080/"
        },
        "id": "aD6G5tzXUurO",
        "outputId": "ed36b712-9d52-4cd1-c145-f5b166859dac"
      },
      "execution_count": 2,
      "outputs": [
        {
          "output_type": "stream",
          "name": "stdout",
          "text": [
            "checking after connection\n"
          ]
        }
      ]
    }
  ]
}